{
 "cells": [
  {
   "cell_type": "code",
   "execution_count": 24,
   "id": "d6623b14",
   "metadata": {},
   "outputs": [],
   "source": [
    "import numpy as np"
   ]
  },
  {
   "cell_type": "code",
   "execution_count": 25,
   "id": "80c9a763",
   "metadata": {},
   "outputs": [
    {
     "data": {
      "text/plain": [
       "array([[-1.2,  2.2,  0.5],\n",
       "       [ 1.1,  4.2,  3.3],\n",
       "       [ 4.1, -2.1, -3.1],\n",
       "       [-3.1, -3.3,  0.5]])"
      ]
     },
     "execution_count": 25,
     "metadata": {},
     "output_type": "execute_result"
    }
   ],
   "source": [
    "#membuat data array\n",
    "sample_data = np.array([[-1.2, 2.2, 0.5],\n",
    "                        [1.1, 4.2, 3.3],\n",
    "                        [4.1, -2.1, -3.1],\n",
    "                        [-3.1, -3.3, 0.5]])\n",
    "sample_data"
   ]
  },
  {
   "cell_type": "code",
   "execution_count": 26,
   "id": "7c168088",
   "metadata": {},
   "outputs": [],
   "source": [
    "from sklearn import preprocessing"
   ]
  },
  {
   "cell_type": "code",
   "execution_count": 27,
   "id": "eb297993",
   "metadata": {},
   "outputs": [
    {
     "data": {
      "text/plain": [
       "array([[0., 1., 0.],\n",
       "       [1., 1., 1.],\n",
       "       [1., 0., 0.],\n",
       "       [0., 0., 0.]])"
      ]
     },
     "execution_count": 27,
     "metadata": {},
     "output_type": "execute_result"
    }
   ],
   "source": [
    "#binarisasi data preprocessing\n",
    "preprocessor = preprocessing.Binarizer(threshold=(0.5))\n",
    "binarizer_data = preprocessor.transform(sample_data)\n",
    "binarizer_data"
   ]
  },
  {
   "cell_type": "code",
   "execution_count": 28,
   "id": "9c8b430b",
   "metadata": {},
   "outputs": [
    {
     "data": {
      "text/plain": [
       "array([[0.26388889, 0.73333333, 0.5625    ],\n",
       "       [0.58333333, 1.        , 1.        ],\n",
       "       [1.        , 0.16      , 0.        ],\n",
       "       [0.        , 0.        , 0.5625    ]])"
      ]
     },
     "execution_count": 28,
     "metadata": {},
     "output_type": "execute_result"
    }
   ],
   "source": [
    "#scaling data preprocessing\n",
    "preprocessor = preprocessing.MinMaxScaler(feature_range=(0,1))\n",
    "scale_data = preprocessor.fit_transform(sample_data)\n",
    "scale_data"
   ]
  },
  {
   "cell_type": "code",
   "execution_count": 29,
   "id": "f002c72d",
   "metadata": {},
   "outputs": [
    {
     "data": {
      "text/plain": [
       "array([[-0.30769231,  0.56410256,  0.12820513],\n",
       "       [ 0.12790698,  0.48837209,  0.38372093],\n",
       "       [ 0.44086022, -0.22580645, -0.33333333],\n",
       "       [-0.44927536, -0.47826087,  0.07246377]])"
      ]
     },
     "execution_count": 29,
     "metadata": {},
     "output_type": "execute_result"
    }
   ],
   "source": [
    "#normalized l1 data preprocessing\n",
    "normalized_l1 = preprocessing.normalize(sample_data, norm='l1')\n",
    "normalized_l1"
   ]
  },
  {
   "cell_type": "code",
   "execution_count": 30,
   "id": "eea47256",
   "metadata": {},
   "outputs": [
    {
     "data": {
      "text/plain": [
       "array([[-0.46959629,  0.86092653,  0.19566512],\n",
       "       [ 0.20170757,  0.77015619,  0.60512272],\n",
       "       [ 0.73840919, -0.37820959, -0.55830939],\n",
       "       [-0.68053841, -0.72444412,  0.10976426]])"
      ]
     },
     "execution_count": 30,
     "metadata": {},
     "output_type": "execute_result"
    }
   ],
   "source": [
    "#normalized l2 data preprocessing\n",
    "normalized_l2 = preprocessing.normalize(sample_data, norm='l2')\n",
    "normalized_l2"
   ]
  }
 ],
 "metadata": {
  "kernelspec": {
   "display_name": "Python 3 (ipykernel)",
   "language": "python",
   "name": "python3"
  },
  "language_info": {
   "codemirror_mode": {
    "name": "ipython",
    "version": 3
   },
   "file_extension": ".py",
   "mimetype": "text/x-python",
   "name": "python",
   "nbconvert_exporter": "python",
   "pygments_lexer": "ipython3",
   "version": "3.9.13"
  }
 },
 "nbformat": 4,
 "nbformat_minor": 5
}
